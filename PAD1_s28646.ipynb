{
  "nbformat": 4,
  "nbformat_minor": 0,
  "metadata": {
    "colab": {
      "provenance": [],
      "collapsed_sections": []
    },
    "kernelspec": {
      "name": "python3",
      "display_name": "Python 3"
    },
    "language_info": {
      "name": "python"
    }
  },
  "cells": [
    {
      "cell_type": "markdown",
      "source": [
        "## Ćwiczenie 1\n",
        "Napisz funkcję o nazwie check_range, która sprawdza, czy liczba znajduje się w podanym zakresie (zawiera zarówno niski *__i__* wysoki). <br>\n",
        "Jeśli tak, zwróć „x jest między y a z”. <br>\n",
        "Jeśli tak nie jest, zwróć „x NIE jest między y a z”. <br>\n",
        "Gdzie:\n",
        "- x to liczba\n",
        "- y jest dolną granicą\n",
        "- z to górna granica"
      ],
      "metadata": {
        "id": "z4vRtV7MShz1"
      }
    },
    {
      "cell_type": "code",
      "source": [
        "def check_range(x, y, z):\n",
        "    if y <= x <= z:\n",
        "        print(\"x jest między y a z\")\n",
        "    else:\n",
        "        print(\"x NIE jest między y a z\")\n",
        "\n",
        "\n",
        "check_range(4, 0, 20)\n",
        "check_range(30, 0, 20)\n",
        "check_range(-1, 0, 20)\n",
        "check_range(20, 0, 20)"
      ],
      "metadata": {
        "colab": {
          "base_uri": "https://localhost:8080/"
        },
        "id": "uePJbaaLSZZ_",
        "outputId": "48d076a1-2645-485e-bac9-1528cc5c2ac2"
      },
      "execution_count": 3,
      "outputs": [
        {
          "output_type": "stream",
          "name": "stdout",
          "text": [
            "x jest między y a z\n",
            "x NIE jest między y a z\n",
            "x NIE jest między y a z\n",
            "x jest między y a z\n"
          ]
        }
      ]
    },
    {
      "cell_type": "markdown",
      "source": [
        "## Ćwiczenie 2\n",
        "Napisz funkcję o nazwie unique_list, która pobiera listę i zwraca listę zawierającą tylko unikalne elementy danych wejściowych."
      ],
      "metadata": {
        "id": "X-WgbBgDSnqo"
      }
    },
    {
      "cell_type": "code",
      "source": [
        "def unique_list(li):\n",
        "    new_list = set(li)\n",
        "    return new_list\n",
        "\n",
        "\n",
        "my_list = [1, 3, 5, 6, 4, 3, 2, 3, 3, 4, 3, 4, 5, 6, 6, 4, 3, 2, 12, 3, 5, 63, 4, 5, 3, 3, 2]\n",
        "u = unique_list(my_list)\n",
        "print(u)"
      ],
      "metadata": {
        "colab": {
          "base_uri": "https://localhost:8080/"
        },
        "id": "ixKFV1JGSvkz",
        "outputId": "8f25ae82-a50b-43df-e90e-2c29676e5428"
      },
      "execution_count": 5,
      "outputs": [
        {
          "output_type": "stream",
          "name": "stdout",
          "text": [
            "{1, 2, 3, 4, 5, 6, 12, 63}\n"
          ]
        }
      ]
    },
    {
      "cell_type": "markdown",
      "source": [
        "Znajdź inny sposób wykonania tej samej operacji bez definiowania funkcji."
      ],
      "metadata": {
        "id": "KEjKjDvoS4Xk"
      }
    },
    {
      "cell_type": "code",
      "source": [
        "# Alternative\n",
        "my_list = [1, 3, 5, 6, 4, 3, 2, 3, 3, 4, 3, 4, 5, 6, 6, 4, 3, 2, 12, 3, 5, 63, 4, 5, 3, 3, 2]\n",
        "my_list = set(my_list)\n",
        "print(my_list)"
      ],
      "metadata": {
        "colab": {
          "base_uri": "https://localhost:8080/"
        },
        "id": "YcADJ4zNS5ZO",
        "outputId": "e1ae9a05-ce95-4580-f510-d5ed8fc35fe2"
      },
      "execution_count": 6,
      "outputs": [
        {
          "output_type": "stream",
          "name": "stdout",
          "text": [
            "{1, 2, 3, 4, 5, 6, 12, 63}\n"
          ]
        }
      ]
    },
    {
      "cell_type": "markdown",
      "source": [
        "## Ćwiczenie 3\n",
        "Napisz funkcję o nazwie objętość_kuli, która przyjmuje promień kuli i zwraca jej objętość zaokrągloną do 2 dp. (Google wzór na objętość kuli, użyj pi = 3,14)"
      ],
      "metadata": {
        "id": "AkbRfNBoTCcy"
      }
    },
    {
      "cell_type": "code",
      "source": [
        "def volume_of_sphere(r):\n",
        "    print(round(4 / 3 * 3.14 * r ** 3, 2))\n",
        "\n",
        "\n",
        "volume_of_sphere(2)\n",
        "volume_of_sphere(1)\n",
        "volume_of_sphere(10)\n",
        "volume_of_sphere(17)"
      ],
      "metadata": {
        "colab": {
          "base_uri": "https://localhost:8080/"
        },
        "id": "I4xpHXtOTGyw",
        "outputId": "3b7f6053-7fe0-469e-ec55-09af7a6b91e6"
      },
      "execution_count": 7,
      "outputs": [
        {
          "output_type": "stream",
          "name": "stdout",
          "text": [
            "33.49\n",
            "4.19\n",
            "4186.67\n",
            "20569.09\n"
          ]
        }
      ]
    },
    {
      "cell_type": "markdown",
      "source": [
        "## Ćwiczenie 4\n",
        "Zdefiniuj funkcję rekurencyjną o nazwie num_fact, która zwraca silnię podanej liczby."
      ],
      "metadata": {
        "id": "kIy95ahVTOHL"
      }
    },
    {
      "cell_type": "code",
      "source": [
        "def num_fact(n):\n",
        "    if n == 0:\n",
        "        return 1\n",
        "    else:\n",
        "        return num_fact(n - 1) * n\n",
        "\n",
        "\n",
        "print(num_fact(0))\n",
        "print(num_fact(1))\n",
        "print(num_fact(2))\n",
        "print(num_fact(3))\n",
        "print(num_fact(4))\n",
        "print(num_fact(5))\n",
        "print(num_fact(6))"
      ],
      "metadata": {
        "colab": {
          "base_uri": "https://localhost:8080/"
        },
        "id": "6fkk9zWWTNPe",
        "outputId": "c99b0b40-c31b-4b13-e956-de7aa1432cc9"
      },
      "execution_count": 8,
      "outputs": [
        {
          "output_type": "stream",
          "name": "stdout",
          "text": [
            "1\n",
            "1\n",
            "2\n",
            "6\n",
            "24\n",
            "120\n",
            "720\n"
          ]
        }
      ]
    }
  ]
}