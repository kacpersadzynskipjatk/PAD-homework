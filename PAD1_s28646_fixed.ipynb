{
  "cells": [
    {
      "cell_type": "markdown",
      "metadata": {
        "id": "z4vRtV7MShz1"
      },
      "source": [
        "## Ćwiczenie 1\n",
        "Napisz funkcję o nazwie check_range, która sprawdza, czy liczba znajduje się w podanym zakresie (zawiera zarówno niski *__i__* wysoki). <br>\n",
        "Jeśli tak, zwróć „x jest między y a z”. <br>\n",
        "Jeśli tak nie jest, zwróć „x NIE jest między y a z”. <br>\n",
        "Gdzie:\n",
        "- x to liczba\n",
        "- y jest dolną granicą\n",
        "- z to górna granica"
      ]
    },
    {
      "cell_type": "code",
      "execution_count": 3,
      "metadata": {
        "colab": {
          "base_uri": "https://localhost:8080/"
        },
        "id": "uePJbaaLSZZ_",
        "outputId": "48d076a1-2645-485e-bac9-1528cc5c2ac2"
      },
      "outputs": [
        {
          "name": "stdout",
          "output_type": "stream",
          "text": [
            "x jest między y a z\n",
            "x NIE jest między y a z\n",
            "x NIE jest między y a z\n",
            "x jest między y a z\n"
          ]
        }
      ],
      "source": [
        "def check_range(x, y, z):\n",
        "    if y <= x <= z:\n",
        "        print(\"x jest między y a z\")\n",
        "    else:\n",
        "        print(\"x NIE jest między y a z\")\n",
        "\n",
        "\n",
        "check_range(4, 0, 20)\n",
        "check_range(30, 0, 20)\n",
        "check_range(-1, 0, 20)\n",
        "check_range(20, 0, 20)"
      ]
    },
    {
      "cell_type": "markdown",
      "metadata": {
        "id": "X-WgbBgDSnqo"
      },
      "source": [
        "## Ćwiczenie 2\n",
        "Napisz funkcję o nazwie unique_list, która pobiera listę i zwraca listę zawierającą tylko unikalne elementy danych wejściowych."
      ]
    },
    {
      "cell_type": "code",
      "execution_count": 5,
      "metadata": {
        "colab": {
          "base_uri": "https://localhost:8080/"
        },
        "id": "ixKFV1JGSvkz",
        "outputId": "8f25ae82-a50b-43df-e90e-2c29676e5428"
      },
      "outputs": [
        {
          "name": "stdout",
          "output_type": "stream",
          "text": [
            "{1, 2, 3, 4, 5, 6, 12, 63}\n"
          ]
        }
      ],
      "source": [
        "def unique_list(li):\n",
        "    new_list = set(li)\n",
        "    return new_list\n",
        "\n",
        "\n",
        "my_list = [1, 3, 5, 6, 4, 3, 2, 3, 3, 4, 3, 4, 5, 6, 6, 4, 3, 2, 12, 3, 5, 63, 4, 5, 3, 3, 2]\n",
        "u = unique_list(my_list)\n",
        "print(u)"
      ]
    },
    {
      "cell_type": "markdown",
      "metadata": {
        "id": "KEjKjDvoS4Xk"
      },
      "source": [
        "Znajdź inny sposób wykonania tej samej operacji bez definiowania funkcji."
      ]
    },
    {
      "cell_type": "code",
      "execution_count": 1,
      "metadata": {
        "colab": {
          "base_uri": "https://localhost:8080/"
        },
        "id": "YcADJ4zNS5ZO",
        "outputId": "e1ae9a05-ce95-4580-f510-d5ed8fc35fe2"
      },
      "outputs": [
        {
          "name": "stdout",
          "output_type": "stream",
          "text": [
            "[ 1  2  3  4  5  6 12 63]\n"
          ]
        }
      ],
      "source": [
        "# Alternative\n",
        "import numpy as np\n",
        "my_list = [1, 3, 5, 6, 4, 3, 2, 3, 3, 4, 3, 4, 5, 6, 6, 4, 3, 2, 12, 3, 5, 63, 4, 5, 3, 3, 2]\n",
        "my_list = np.array(my_list)\n",
        "print(np.unique(my_list))"
      ]
    },
    {
      "cell_type": "markdown",
      "metadata": {
        "id": "AkbRfNBoTCcy"
      },
      "source": [
        "## Ćwiczenie 3\n",
        "Napisz funkcję o nazwie objętość_kuli, która przyjmuje promień kuli i zwraca jej objętość zaokrągloną do 2 dp. (Google wzór na objętość kuli, użyj pi = 3,14)"
      ]
    },
    {
      "cell_type": "code",
      "execution_count": 7,
      "metadata": {
        "colab": {
          "base_uri": "https://localhost:8080/"
        },
        "id": "I4xpHXtOTGyw",
        "outputId": "3b7f6053-7fe0-469e-ec55-09af7a6b91e6"
      },
      "outputs": [
        {
          "name": "stdout",
          "output_type": "stream",
          "text": [
            "33.49\n",
            "4.19\n",
            "4186.67\n",
            "20569.09\n"
          ]
        }
      ],
      "source": [
        "def volume_of_sphere(r):\n",
        "    print(round(4 / 3 * 3.14 * r ** 3, 2))\n",
        "\n",
        "\n",
        "volume_of_sphere(2)\n",
        "volume_of_sphere(1)\n",
        "volume_of_sphere(10)\n",
        "volume_of_sphere(17)"
      ]
    },
    {
      "cell_type": "markdown",
      "metadata": {
        "id": "kIy95ahVTOHL"
      },
      "source": [
        "## Ćwiczenie 4\n",
        "Zdefiniuj funkcję rekurencyjną o nazwie num_fact, która zwraca silnię podanej liczby."
      ]
    },
    {
      "cell_type": "code",
      "execution_count": 8,
      "metadata": {
        "colab": {
          "base_uri": "https://localhost:8080/"
        },
        "id": "6fkk9zWWTNPe",
        "outputId": "c99b0b40-c31b-4b13-e956-de7aa1432cc9"
      },
      "outputs": [
        {
          "name": "stdout",
          "output_type": "stream",
          "text": [
            "1\n",
            "1\n",
            "2\n",
            "6\n",
            "24\n",
            "120\n",
            "720\n"
          ]
        }
      ],
      "source": [
        "def num_fact(n):\n",
        "    if n == 0:\n",
        "        return 1\n",
        "    else:\n",
        "        return num_fact(n - 1) * n\n",
        "\n",
        "\n",
        "print(num_fact(0))\n",
        "print(num_fact(1))\n",
        "print(num_fact(2))\n",
        "print(num_fact(3))\n",
        "print(num_fact(4))\n",
        "print(num_fact(5))\n",
        "print(num_fact(6))"
      ]
    }
  ],
  "metadata": {
    "colab": {
      "collapsed_sections": [],
      "provenance": []
    },
    "kernelspec": {
      "display_name": "Python 3.10.0 64-bit",
      "language": "python",
      "name": "python3"
    },
    "language_info": {
      "codemirror_mode": {
        "name": "ipython",
        "version": 3
      },
      "file_extension": ".py",
      "mimetype": "text/x-python",
      "name": "python",
      "nbconvert_exporter": "python",
      "pygments_lexer": "ipython3",
      "version": "3.10.0"
    },
    "vscode": {
      "interpreter": {
        "hash": "8ca3702433fd11896e4904d609d089f11cef079539301f5b2d4408b2dbff413c"
      }
    }
  },
  "nbformat": 4,
  "nbformat_minor": 0
}
